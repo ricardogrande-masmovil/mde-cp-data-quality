{
 "cells": [
  {
   "attachments": {},
   "cell_type": "markdown",
   "id": "de29fb16-b4f6-4ee0-a02d-56adef8db995",
   "metadata": {
    "execution": {
     "iopub.execute_input": "2022-10-07T08:07:10.891409Z",
     "iopub.status.busy": "2022-10-07T08:07:10.891089Z",
     "iopub.status.idle": "2022-10-07T08:07:11.019940Z",
     "shell.execute_reply": "2022-10-07T08:07:11.018627Z",
     "shell.execute_reply.started": "2022-10-07T08:07:10.891376Z"
    }
   },
   "source": [
    "<img src=\"https://media-exp1.licdn.com/dms/image/C4E1BAQF_UpI5AaG0tQ/company-background_10000/0/1652085437382?e=2147483647&v=beta&t=i5HS1izIkIk8HRtK0OPS6odEgZpuVbjjfcH2wx6ByAI\" alt=\"MarineGEO circle logo\"/>\n",
    "\n",
    "# MBIT School\n",
    "\n",
    "## Máster Profesional en Data Engineer\n",
    "\n",
    "---\n",
    "\n",
    "### **Módulo 5. Herramientas de calidad de datos. PC - Data Quality**\n",
    "\n",
    "---\n",
    "\n",
    "Pedro Gómez (pegomez.lopez@mbitschool.com)\n",
    "\n",
    "---"
   ]
  },
  {
   "attachments": {},
   "cell_type": "markdown",
   "id": "f11128eb-5b7a-42d6-a67c-e2100175946b",
   "metadata": {},
   "source": [
    "**Estudiante**: Modifica esta celda de Markdown y establece los nombres completos de todos los componentes."
   ]
  },
  {
   "attachments": {},
   "cell_type": "markdown",
   "id": "1eba921a-34a8-45a8-8b78-ddfb01f6a676",
   "metadata": {
    "tags": []
   },
   "source": [
    "---\n",
    "\n",
    "## **Descripción inicial y primeros pasos con raw data**\n",
    "El punto de partida es la consideración de que hay un gran problema con la vivienda y el turismo en Madrid: es sabido que muchos propietarios privados encuentran más rentable y lucrativo alquilar apartamentos a los turistas que a los locales (especialmente en el centro de la ciudad), y muchas agencias inmobiliarias compran propiedades y las convierten en alojamientos turísticos. Todo ello tiene el efecto de reducir la oferta, aumentar los precios y empujar a los locales a otros barrios de la periferia, dejando sólo a los turistas en el centro.\n",
    "\n",
    "Teniendo esto en cuenta, y sabiendo que Airbnb es hoy en día uno de los mayores mercados online de alojamientos, he buscado los datos para\n",
    "\n",
    "- por un lado evaluar el impacto que tiene Airbnb en el alojamiento en Madrid;\n",
    "- por otro lado investigar sobre quién, cuándo y cómo alquila en Madrid y posiblemente hacer consideraciones sobre los flujos turísticos en Madrid.\n",
    "\n",
    "Los datos los podéis descargar de Campus Virtual en SharePoint, pero originalmente están descargados de esta página web: http://insideairbnb.com/\n"
   ]
  },
  {
   "attachments": {},
   "cell_type": "markdown",
   "id": "1af919d7-73a7-4e9e-a37f-95fc626afe01",
   "metadata": {
    "tags": []
   },
   "source": [
    "### **Ejercicio 1**\n",
    "Lo primero que necesitamos hacer es descargar los datos de Campus Virtual y situarlos dentro de nuestro bucket. Para ello crearemos un bucket llamado `proyecto-airbnb`, y en su capa `raw`, dos carpetas dentro, una llamada `places` y otra denominada `reviews`. Para verificar este paso, adjunta en una celda de markdown una captura resultante. En este punto puede ser ya interesante el definir las capas de medallion en s3."
   ]
  },
  {
   "cell_type": "code",
   "execution_count": null,
   "id": "ffb524f0-407f-4be1-8bb3-f00b89894fa9",
   "metadata": {
    "execution": {
     "iopub.execute_input": "2022-10-07T10:51:54.410178Z",
     "iopub.status.busy": "2022-10-07T10:51:54.409904Z",
     "iopub.status.idle": "2022-10-07T10:52:48.824698Z",
     "shell.execute_reply": "2022-10-07T10:52:48.823700Z",
     "shell.execute_reply.started": "2022-10-07T10:51:54.410145Z"
    },
    "tags": []
   },
   "outputs": [],
   "source": [
    "# Implementación"
   ]
  },
  {
   "attachments": {},
   "cell_type": "markdown",
   "id": "ab840f42-c4a5-443d-b097-70c3a7e627bf",
   "metadata": {},
   "source": [
    "### **Ejercicio 2**\n",
    "Crea un crawler dentro del servicio de Glue que exponga los datos conforme los has descargado de Campus. El nombre del crawler será `airbnb_raw_data_crawler` y contendrá como fuentes de datos las dos rutas de s3 donde tengamos los apartamentos y las reviews. La base de datos que se creará será `airbnb_data_db` y deberá contener ambas tablas. De nuevo, como resultado de este ejercicio adjunta una captura con el resultado. Como estaríamos moviéndonos en el plano de ser tablas en el estado raw, deben incluir en prefijo `raw`, que situaremos en el momento de creación del crawler."
   ]
  },
  {
   "cell_type": "code",
   "execution_count": null,
   "id": "be4e80ca-8aca-4fe6-abce-47a2b398fd60",
   "metadata": {},
   "outputs": [],
   "source": [
    "# Implementación"
   ]
  },
  {
   "attachments": {},
   "cell_type": "markdown",
   "id": "c2cd6845-bb0e-4f5d-997a-7f5320515228",
   "metadata": {},
   "source": [
    "### **Ejercicio 3**\n",
    "Tal y como sabéis, el catálogo de datos de Glue se puede consultar a través del servicio de Athena. Verificad que está todo correcto mostrando una captura de las bases de datos disponibles en Athena, así como un par de consultas rápidas en las que muestres el conteo de elementos en cada una de las tablas que hay dentro de `airbnb_data_db` que se puede consultar desde Athena."
   ]
  },
  {
   "cell_type": "code",
   "execution_count": null,
   "id": "24ce6579-a7c1-46fd-bbdf-4a29bf1376cd",
   "metadata": {
    "execution": {
     "iopub.execute_input": "2022-10-07T10:56:57.700376Z",
     "iopub.status.busy": "2022-10-07T10:56:57.699993Z",
     "iopub.status.idle": "2022-10-07T10:56:57.825133Z",
     "shell.execute_reply": "2022-10-07T10:56:57.824174Z",
     "shell.execute_reply.started": "2022-10-07T10:56:57.700327Z"
    }
   },
   "outputs": [],
   "source": [
    "# Implementación"
   ]
  },
  {
   "attachments": {},
   "cell_type": "markdown",
   "id": "515104ac-ed7e-4e90-aff5-499c01e4a4ce",
   "metadata": {},
   "source": [
    "### **Ejercicio 4**\n",
    "Una vez los datos sean accesibles desde Athena, podemos checkear algunos conceptos a gran escala:\n",
    "- Cuál es la fecha mínima de la que tenemos reviews?\n",
    "- Cuál es la fecha máxima de la que tenemos reviews?\n",
    "- Cuál es el precio máximo, mínimo y medio por barrio y mes de entre los datos disponibles?\n",
    "- Cuál es el volumen de reviews por día de los últimos años? Se ve reflejado en los datos algún evento externo?\n",
    "- Cuál es la cantidad de alojamientos que tienen un valor válido dentro del campo 'id'?\n",
    "\n",
    "*Realizar estas consultas en sql y adjunta tanto las sentencias como las salidas en una celda markdown*"
   ]
  },
  {
   "cell_type": "code",
   "execution_count": null,
   "id": "412f971f-6625-487e-b4f6-5e73135c3f1d",
   "metadata": {
    "execution": {
     "iopub.execute_input": "2022-10-07T11:00:26.464488Z",
     "iopub.status.busy": "2022-10-07T11:00:26.464088Z",
     "iopub.status.idle": "2022-10-07T11:00:26.540676Z",
     "shell.execute_reply": "2022-10-07T11:00:26.539821Z",
     "shell.execute_reply.started": "2022-10-07T11:00:26.464455Z"
    }
   },
   "outputs": [],
   "source": [
    "# RAW --> zip\n",
    "# BRONZE --> csv sin fraudulent\n",
    "# SILVER --> parquet con las columnas seleccionadas y schema validado\n",
    "# GOLD --> silver pero con las siguientes columnas adicionales obtenidas usando LLM\n",
    "   # 1. Responsabilidades (array de conceptos)\n",
    "   # 2. Soft skills (array de conceptos)\n",
    "   # 3. Hard skills (array de conceptos)\n",
    "\n",
    "# Salario mínimo y máximo\n",
    "# Experiencia requerida de las 3 ofertas con más salario\n",
    "# Top 5 industrias con más ofertas\n",
    "# Resumir requirements + description y extraer: --> GOLD \n",
    "   # 1. Responsabilidades (array de conceptos)\n",
    "   # 2. Soft skills (array de conceptos)\n",
    "   # 3. Hard skills (array de conceptos)"
   ]
  },
  {
   "attachments": {},
   "cell_type": "markdown",
   "id": "5a198c7d",
   "metadata": {},
   "source": [
    "### **Ejercicio 5**\n",
    "Tal y como podemos observar, salen algunos valores que no tienen mucho sentido, que hacen que nuestro conjunto de datos sea vea al menos \"raro\".\n",
    "\n",
    "- A qué crees que se puede deber esto?\n",
    "\n",
    "Tal y como también hemos visto, existen mecanismos que nos pueden ayudar a verificar las calidad de nuestros datos residentes en el catálogo de Glue. En este sentido, dentro del apartado de calidad, crea un conjunto de reglas nuevo que, con un recomendador de reglas, o con tu propio conocimiento del caso de uso, genere un conjunto de reglas y se lance contra nuestra fuente de datos.\n",
    "\n",
    "- Qué resultados hemos obtenido?\n",
    "- Crees que necesitamos algún tipo de herramienta adicional como DS para intentar mejorar la calidad de nuestros datos?"
   ]
  },
  {
   "attachments": {},
   "cell_type": "markdown",
   "id": "46adedb5-0e0e-4b6e-a246-416661ba75e7",
   "metadata": {},
   "source": [
    "- - -"
   ]
  },
  {
   "attachments": {},
   "cell_type": "markdown",
   "id": "2210ed69-80ae-46c6-93d1-7a7963567dfa",
   "metadata": {
    "tags": []
   },
   "source": [
    "## **Añadiendo valor**"
   ]
  },
  {
   "attachments": {},
   "cell_type": "markdown",
   "id": "3307e134-5512-4193-ad93-d56e325df3f5",
   "metadata": {
    "tags": []
   },
   "source": [
    "### **Ejercicio 6**\n",
    "#### Carga del dataset y primeros checks\n",
    "\n",
    "Cargar ambos datasets y verifica el esquema, muestra también las primeras filas de cada dataframe. \n",
    "\n",
    "**Hint**: Esta primera capa puede ser el bronze, donde lo que nos interesa es que los datos tengan un esquema correcto de acuerdo a su data layout. También puede ser un punto interesante para realizar las primeras aproximaciones a perfilados y EDAs preliminares."
   ]
  },
  {
   "cell_type": "code",
   "execution_count": null,
   "id": "6e55e21a-1bcc-4cbd-8ec8-8427e81b6ad9",
   "metadata": {
    "execution": {
     "iopub.execute_input": "2022-10-07T11:05:05.363144Z",
     "iopub.status.busy": "2022-10-07T11:05:05.362854Z",
     "iopub.status.idle": "2022-10-07T11:05:05.445265Z",
     "shell.execute_reply": "2022-10-07T11:05:05.444278Z",
     "shell.execute_reply.started": "2022-10-07T11:05:05.363089Z"
    },
    "tags": []
   },
   "outputs": [],
   "source": [
    "# Implementación"
   ]
  },
  {
   "attachments": {},
   "cell_type": "markdown",
   "id": "9a293274",
   "metadata": {},
   "source": [
    "Realiza un perfilado de los datos. Si te encuentras con algún problema en el proceso, piensa en cómo se podría resolver."
   ]
  },
  {
   "cell_type": "code",
   "execution_count": null,
   "id": "ff9ee719",
   "metadata": {},
   "outputs": [],
   "source": [
    "# Implementación"
   ]
  },
  {
   "attachments": {},
   "cell_type": "markdown",
   "id": "941e5b24",
   "metadata": {},
   "source": [
    "En este punto, inicializa un fichero de logging, con un formato específico que te permita tener trazabilidad sobre los cambios y modificaciones que efectuarás en cada uno de los pasos o puntos de este proyecto. No solo pensamos en el dato transaccional puro, sino también en el momento en que se realiza, el dataset al que afecta, etc. Plantea un conjunto de atributos que creas que puede merecer la pena seguir."
   ]
  },
  {
   "cell_type": "code",
   "execution_count": null,
   "id": "7f09b713",
   "metadata": {},
   "outputs": [],
   "source": [
    "# Implementación"
   ]
  },
  {
   "attachments": {},
   "cell_type": "markdown",
   "id": "4ea398d4-0beb-4468-a911-11a31c10c526",
   "metadata": {},
   "source": [
    "### **Ejercicio 7**\n",
    "¿Hay algo en el esquema que llame tu atención? ¿Realizarías alguna modificación? En caso de ser así, realízala y guarda en un nuevo dataframe que no sobreescriba el anterior. Puedes aplicar parsers o validación de esquema para validar los datos de entrada."
   ]
  },
  {
   "cell_type": "code",
   "execution_count": null,
   "id": "38b4d855-5bad-403a-a1a7-1fe38c26575c",
   "metadata": {},
   "outputs": [],
   "source": [
    "# Implementación"
   ]
  },
  {
   "attachments": {},
   "cell_type": "markdown",
   "id": "4679611a-37ad-463c-ad89-d3564b1dc54a",
   "metadata": {},
   "source": [
    "### **Ejercicio 8**\n",
    "Verifica que los campos contienen valores correctos de acuerdo a lo descrito en el data layout. En el caso de que exista algún problema, ¿cómo lo resolverías? Puedes hacer uso de cualquiera de las librería que hemos visto para verificar layouts. Además, recueda, que en este caso concreto, el dataset cuenta con un diccionario que refleja el [layout](https://docs.google.com/spreadsheets/d/1iWCNJcSutYqpULSQHlNyGInUvHg2BoUGoNRIGa6Szc4/edit#gid=1322284596)."
   ]
  },
  {
   "cell_type": "code",
   "execution_count": null,
   "id": "69651b6d-5215-4416-9520-36ecaf57d956",
   "metadata": {
    "execution": {
     "iopub.execute_input": "2022-10-07T11:08:31.748682Z",
     "iopub.status.busy": "2022-10-07T11:08:31.748412Z",
     "iopub.status.idle": "2022-10-07T11:08:31.833727Z",
     "shell.execute_reply": "2022-10-07T11:08:31.832595Z",
     "shell.execute_reply.started": "2022-10-07T11:08:31.748650Z"
    }
   },
   "outputs": [],
   "source": [
    "# Implementación"
   ]
  },
  {
   "attachments": {},
   "cell_type": "markdown",
   "id": "ccf3be89-d181-441d-90b3-6a078b01e972",
   "metadata": {},
   "source": [
    "### **Ejercicio 9**\n",
    "- ¿Cuántos elementos tiene cada dataframe? ¿Coincide con los valores que obtenías en Athena?"
   ]
  },
  {
   "cell_type": "code",
   "execution_count": null,
   "id": "e31389e4-0464-4d59-b4bf-abb315662b3d",
   "metadata": {
    "execution": {
     "iopub.execute_input": "2022-10-07T11:10:21.383776Z",
     "iopub.status.busy": "2022-10-07T11:10:21.383451Z",
     "iopub.status.idle": "2022-10-07T11:10:21.461571Z",
     "shell.execute_reply": "2022-10-07T11:10:21.460557Z",
     "shell.execute_reply.started": "2022-10-07T11:10:21.383742Z"
    }
   },
   "outputs": [],
   "source": [
    "# Implementación"
   ]
  },
  {
   "attachments": {},
   "cell_type": "markdown",
   "id": "46d1c1ff-cf69-480f-824b-251e39123b8c",
   "metadata": {},
   "source": [
    "- - -"
   ]
  },
  {
   "attachments": {},
   "cell_type": "markdown",
   "id": "f9869bd1-21a4-48be-93af-34c945224dc9",
   "metadata": {
    "tags": []
   },
   "source": [
    "## **Análisis exploratorio inicial y transformación de datos**\n",
    "Como paso previo a la realización de modelado y enriquecimiento más complejo, vamos a explorar los datos de los que disponemos para nuestro proyecto. Posterioremente, realizaremos algunas transformaciones que añadan valor a nuestra solución."
   ]
  },
  {
   "cell_type": "code",
   "execution_count": null,
   "id": "a9de83ba-a64d-4c8a-8b91-a6af9667b6a6",
   "metadata": {
    "execution": {
     "iopub.execute_input": "2022-10-07T08:20:48.447054Z",
     "iopub.status.busy": "2022-10-07T08:20:48.446771Z",
     "iopub.status.idle": "2022-10-07T08:20:48.531878Z",
     "shell.execute_reply": "2022-10-07T08:20:48.531060Z",
     "shell.execute_reply.started": "2022-10-07T08:20:48.447022Z"
    },
    "tags": []
   },
   "outputs": [],
   "source": [
    "# Implementación"
   ]
  },
  {
   "attachments": {},
   "cell_type": "markdown",
   "id": "3a4b4634-0547-4b51-b3af-389725f74265",
   "metadata": {},
   "source": [
    "### **Ejercicio 10**\n",
    "Comencemos con los apartamentos, o `places`:\n",
    "Los puntos que hay que tratar son:\n",
    "\n",
    "- **Tipos de anuncios**: La idea inicial de Airbnb era ofrecer una habitación o una estancia compartida dentro de la propia casa. ¿Sigue siendo así?\n",
    "- **Densidad de los anuncios**: ¿se distribuyen uniformemente en todos los barrios o hay algunas zonas calientes?\n",
    "- **Titularidad**: ¿los inmuebles son propiedad de un solo usuario privado o hay usuarios que poseen y alquilan varios lugares (es decir, que posiblemente especulan)?\n",
    "- **Equidad de precios**: ¿están los precios inflados para los turistas? Es decir, ¿hay una diferencia significativa de precios entre los listados en inglés (es decir, para los turistas) y en español (es decir, para los \"locales\", o al menos para los turistas de habla hispana)? Si la hay, ¿es esta diferencia más fuerte en determinados distritos?"
   ]
  },
  {
   "cell_type": "code",
   "execution_count": null,
   "id": "a41c51a7-4180-4ae4-ad02-fe541706576c",
   "metadata": {
    "execution": {
     "iopub.execute_input": "2022-10-07T11:22:37.336863Z",
     "iopub.status.busy": "2022-10-07T11:22:37.336530Z",
     "iopub.status.idle": "2022-10-07T11:22:37.430466Z",
     "shell.execute_reply": "2022-10-07T11:22:37.429342Z",
     "shell.execute_reply.started": "2022-10-07T11:22:37.336828Z"
    }
   },
   "outputs": [],
   "source": [
    "# Implementación"
   ]
  },
  {
   "attachments": {},
   "cell_type": "markdown",
   "id": "0f533c5b-82ff-4ca2-9c1a-d9f065026007",
   "metadata": {},
   "source": [
    "### **Ejercicio 11**\n",
    "Para la segunda parte nos vamos a fijar más en las `reviews` o reseñas. Como no tenemos datos históricos sobre las estancias, sino sólo sobre las reseñas, podríamos utilizar las reseñas como estimadores de las estancias/visitas.\n",
    "\n",
    "Aquí lo que queremos ver es:\n",
    "\n",
    "- **Tendencia**: ¿ha aumentado el número de reseñas a lo largo del tiempo? Si lo ha hecho, ¿podemos decir que el incremento se debe a un mayor número de visitantes o se debe simplemente a un aumento de la popularidad de la plataforma?\n",
    "- **Estacionalidad**: ¿el flujo de turistas es estacional, es decir, sigue una tendencia estacional? ¿Podemos explicar el patrón?"
   ]
  },
  {
   "cell_type": "code",
   "execution_count": null,
   "id": "d456cb4f-19a5-483a-a918-258f2d4a525d",
   "metadata": {
    "execution": {
     "iopub.execute_input": "2022-10-07T11:24:30.530175Z",
     "iopub.status.busy": "2022-10-07T11:24:30.529875Z",
     "iopub.status.idle": "2022-10-07T11:24:30.630656Z",
     "shell.execute_reply": "2022-10-07T11:24:30.629700Z",
     "shell.execute_reply.started": "2022-10-07T11:24:30.530140Z"
    }
   },
   "outputs": [],
   "source": [
    "# Implementación"
   ]
  },
  {
   "attachments": {},
   "cell_type": "markdown",
   "id": "10e88fb1-f46a-4c04-839c-aa0d924e2a18",
   "metadata": {},
   "source": [
    "### **Ejercicio 12**\n",
    "Lo siguiente que haremos será quedarnos solamente con aquellos apartamentos que tienen reviews asociadas.\n",
    "- ¿Cuál es el volumen de reviews que no tiene un apartamento asociado?\n",
    "- ¿Cuál es el volumen de apartamentos que no tienen reviews asociadas?\n",
    "- ¿Cuál es el volumen de apartamentos que tienen reviews?¿En qué zona predominan?"
   ]
  },
  {
   "cell_type": "code",
   "execution_count": null,
   "id": "eb51a8c7-9940-4627-8c17-5e9285259a90",
   "metadata": {
    "execution": {
     "iopub.execute_input": "2022-10-07T11:28:42.054297Z",
     "iopub.status.busy": "2022-10-07T11:28:42.054007Z",
     "iopub.status.idle": "2022-10-07T11:28:42.133752Z",
     "shell.execute_reply": "2022-10-07T11:28:42.132853Z",
     "shell.execute_reply.started": "2022-10-07T11:28:42.054264Z"
    }
   },
   "outputs": [],
   "source": [
    "# Implementación"
   ]
  },
  {
   "attachments": {},
   "cell_type": "markdown",
   "id": "d9ae7384-293a-4b83-9b60-4481cc9d518c",
   "metadata": {},
   "source": [
    "### **Ejercicio 13**\n",
    "Un campo de valor es el de `comments` dentro de las reviews. Como podemos apreciar, hay casos en los que el propio comentario viene con cierta suciedad. Lo que queremos hacer en este caso es:\n",
    "- quitar etiquetas de HTML (todo lo que esté encerrado entre <>)\n",
    "- quitar caracteres que no añaden valor como '',!¡, #, @\n",
    "- convertir todo en lower case"
   ]
  },
  {
   "cell_type": "code",
   "execution_count": null,
   "id": "d57eaebd-ecd7-4c94-8502-877547bc6670",
   "metadata": {
    "execution": {
     "iopub.execute_input": "2022-10-07T11:42:38.207874Z",
     "iopub.status.busy": "2022-10-07T11:42:38.207583Z",
     "iopub.status.idle": "2022-10-07T11:42:38.280561Z",
     "shell.execute_reply": "2022-10-07T11:42:38.279539Z",
     "shell.execute_reply.started": "2022-10-07T11:42:38.207840Z"
    }
   },
   "outputs": [],
   "source": [
    "# Implementación"
   ]
  },
  {
   "attachments": {},
   "cell_type": "markdown",
   "id": "992c0ae6",
   "metadata": {},
   "source": [
    "¿Crees que tiene sentido hacer alguna sustitución de valores más? Si es así, impleméntala."
   ]
  },
  {
   "cell_type": "code",
   "execution_count": null,
   "id": "9e9497e3",
   "metadata": {},
   "outputs": [],
   "source": [
    "# Implementación"
   ]
  },
  {
   "attachments": {},
   "cell_type": "markdown",
   "id": "1616bcff-9989-445d-9ada-6850bfc8b35f",
   "metadata": {},
   "source": [
    "### **Ejercicio 14**\n",
    "Otro aspecto interesante sería el de analizar las palabras que más se usan categorizando por precio, barrio y año-mes. En este sentido, podríamos no considerar para nuestro análisis artículos o preposiciones para no perdernos en los detalles. Analiza esta componente y extrae tus propias conclusiones."
   ]
  },
  {
   "cell_type": "code",
   "execution_count": null,
   "id": "66f5633a-c342-4a38-ab9c-a68569e2ea0d",
   "metadata": {
    "execution": {
     "iopub.execute_input": "2022-10-07T11:43:06.938583Z",
     "iopub.status.busy": "2022-10-07T11:43:06.938256Z",
     "iopub.status.idle": "2022-10-07T11:43:07.041722Z",
     "shell.execute_reply": "2022-10-07T11:43:07.040735Z",
     "shell.execute_reply.started": "2022-10-07T11:43:06.938548Z"
    }
   },
   "outputs": [],
   "source": [
    "# Implementación"
   ]
  },
  {
   "attachments": {},
   "cell_type": "markdown",
   "id": "c082865b-2137-4f0c-9685-c08240fe5caa",
   "metadata": {},
   "source": [
    "- - -"
   ]
  },
  {
   "attachments": {},
   "cell_type": "markdown",
   "id": "378f148a-0019-4beb-8052-1d3c99aa3a46",
   "metadata": {
    "tags": []
   },
   "source": [
    "## **Exposición de datos enriquecidos**"
   ]
  },
  {
   "attachments": {},
   "cell_type": "markdown",
   "id": "f4028a4e-1fd4-4145-82ba-0c9c353af8aa",
   "metadata": {},
   "source": [
    "### **Ejercicio 15**\n",
    "Dentro del bucket de nuestro proyecto, crea la capa `gold` para tu caso de uso que contenga el dataframe enriquecido después del tratamiento. Puedes particionarlo por año y mes, y poder realizar una menor analítica podemos hacer uso del servicio de Spark for Athena y conseguir nuestro objetivo. Incluye en la celda de abajo el código necesario para este objetivo."
   ]
  },
  {
   "cell_type": "code",
   "execution_count": null,
   "id": "8167301c-0ff7-4c03-aa78-17268fbd1af2",
   "metadata": {
    "execution": {
     "iopub.execute_input": "2022-10-07T11:14:34.258806Z",
     "iopub.status.busy": "2022-10-07T11:14:34.258449Z",
     "iopub.status.idle": "2022-10-07T11:14:34.350664Z",
     "shell.execute_reply": "2022-10-07T11:14:34.349617Z",
     "shell.execute_reply.started": "2022-10-07T11:14:34.258762Z"
    },
    "tags": []
   },
   "outputs": [],
   "source": [
    "# Implementación"
   ]
  },
  {
   "attachments": {},
   "cell_type": "markdown",
   "id": "4530ba7e-603a-4deb-9951-240888c1726a",
   "metadata": {},
   "source": [
    "### **Ejercicio 16**\n",
    "La calidad de nuestros datos es crítica. Por ello, vamos a generar métricas a varios niveles para nuestro dataframe y vamos a craer un `Data Quality Dashboard` en dentro de una app de Streamlit. Para ello, podéis hacer uso de:\n",
    " - herramientas de perfilado de datos\n",
    " - herramientas de validación de esquemas y pasos de calidad\n",
    " - herramientas de visualización de datos"
   ]
  },
  {
   "cell_type": "code",
   "execution_count": null,
   "id": "e744812a-d35b-4b76-8927-431d0fb3c935",
   "metadata": {},
   "outputs": [],
   "source": [
    "# Implementación"
   ]
  },
  {
   "attachments": {},
   "cell_type": "markdown",
   "id": "ef78eb2a-1331-4bcd-927d-ebed5766cd7e",
   "metadata": {},
   "source": [
    "- - -"
   ]
  },
  {
   "attachments": {},
   "cell_type": "markdown",
   "id": "7105f1ee-02fe-431e-b6c5-c9f0f26b3217",
   "metadata": {
    "tags": []
   },
   "source": [
    "## **Valor diferencial como expertos de datos y negocio**\n",
    "Como científicos de datos nuestra capacidad de aportar valor va mucho más allá de nuestras capacidades técnicas. Entendemos nuestro sector, nuestro negocio, sus casos de uso y somos capaces de definir acciones estratégicas que nos acerquen a nuestro objetivo. En esa sección el objetivo es explotar nuestra parte más creativa y diferencial, mas allá de nuestros skills técnicos y de programación."
   ]
  },
  {
   "attachments": {},
   "cell_type": "markdown",
   "id": "90b5cd20-c519-4d36-9c06-d6b7766c00d6",
   "metadata": {},
   "source": [
    "#### Ejercicio 17\n",
    "- ¿Crees ques sería interesante cruzar este dataset con otros para enriquecerlo? ¿Con cuáles? ¿Por qué? Mézclalos al menos con un conjunto de datos nuevo y, si lo ves necesario, realiza un proceso de aseguramiento de la calidad sobre este conjunto de datos externo. Si no lo encuentras lo puedes generar de manera sintética ¿Crees que esta aproximación tiene algún riesgo o depedencia?"
   ]
  },
  {
   "cell_type": "code",
   "execution_count": null,
   "id": "a99c0980-cd57-4ac9-b8ae-69bbf0ba889e",
   "metadata": {
    "execution": {
     "iopub.execute_input": "2022-10-07T11:15:21.187386Z",
     "iopub.status.busy": "2022-10-07T11:15:21.187116Z",
     "iopub.status.idle": "2022-10-07T11:15:21.269793Z",
     "shell.execute_reply": "2022-10-07T11:15:21.268974Z",
     "shell.execute_reply.started": "2022-10-07T11:15:21.187354Z"
    }
   },
   "outputs": [],
   "source": [
    "# Respuesta"
   ]
  },
  {
   "attachments": {},
   "cell_type": "markdown",
   "id": "610d5988-8070-4bb3-a539-b31fff44c02e",
   "metadata": {},
   "source": [
    "#### Ejercicio 18\n",
    "Plantea 3 casos de uso diferentes de productos basados en datos y adapta los checks o validaciones a cada uno de estos nuevos casos de uso usando librerias como `Great Expectations` o `Pandera`."
   ]
  },
  {
   "cell_type": "code",
   "execution_count": null,
   "id": "2fab8d26-d753-40e8-9668-a155e28f8575",
   "metadata": {
    "execution": {
     "iopub.execute_input": "2022-10-07T11:15:34.093025Z",
     "iopub.status.busy": "2022-10-07T11:15:34.092747Z",
     "iopub.status.idle": "2022-10-07T11:15:34.178654Z",
     "shell.execute_reply": "2022-10-07T11:15:34.177675Z",
     "shell.execute_reply.started": "2022-10-07T11:15:34.092992Z"
    }
   },
   "outputs": [],
   "source": [
    "# Respuesta"
   ]
  },
  {
   "attachments": {},
   "cell_type": "markdown",
   "id": "4165d02c-ba6e-485d-affd-1fbb65c9b67f",
   "metadata": {},
   "source": [
    "#### Ejercicio 19\n",
    "¿Qué otra columna o columnas crees que serían útiles en los datos, de tipo timestamp por ejemplo, para realizar análisis más complejos o profundos?"
   ]
  },
  {
   "cell_type": "code",
   "execution_count": null,
   "id": "c251f137-cc82-4620-ab24-d1c9851a3411",
   "metadata": {
    "execution": {
     "iopub.execute_input": "2022-10-07T11:51:28.685214Z",
     "iopub.status.busy": "2022-10-07T11:51:28.684937Z",
     "iopub.status.idle": "2022-10-07T11:51:28.758699Z",
     "shell.execute_reply": "2022-10-07T11:51:28.757828Z",
     "shell.execute_reply.started": "2022-10-07T11:51:28.685181Z"
    }
   },
   "outputs": [],
   "source": [
    "# Respuesta"
   ]
  },
  {
   "attachments": {},
   "cell_type": "markdown",
   "id": "94358324-a9fe-4eba-8d38-0dda80742c4a",
   "metadata": {},
   "source": [
    "#### Ejercicio 20\n",
    "A priori parece dar la sensación de que el volumen de datos que hemos analizado no es `big data`. Sin embargo, viendo el caso de estudio desde una perspectiva más global, ¿cómo crees que sería interesante escalar esta solución sin realizar grandes cambios?"
   ]
  },
  {
   "cell_type": "code",
   "execution_count": null,
   "id": "296b3eb2-662a-4c11-8c3c-db37acff75ee",
   "metadata": {
    "execution": {
     "iopub.execute_input": "2022-10-07T11:52:15.743042Z",
     "iopub.status.busy": "2022-10-07T11:52:15.742746Z",
     "iopub.status.idle": "2022-10-07T11:52:15.826416Z",
     "shell.execute_reply": "2022-10-07T11:52:15.825492Z",
     "shell.execute_reply.started": "2022-10-07T11:52:15.743007Z"
    }
   },
   "outputs": [],
   "source": [
    "# Respuesta"
   ]
  },
  {
   "attachments": {},
   "cell_type": "markdown",
   "id": "30464d47-0ae6-43d8-b0e7-25186b3d367d",
   "metadata": {},
   "source": [
    "#### Ejercicio 21\n",
    "Una componente interesante de esta solución es la potencial visualización de datos, ya que contamos con atributos como la latitud y la longitud de las propiedades. Realiza una búsqueda en la que identifiques qué librerías sería interesante utilizar para poder explotar en mayor medida esta componente. Del mismo modo, una de las mejores estrategias a la hora de exponer el valor de los datos a perfiles menos técnicos es la de visualizar datos y contar una historia que refuerce nuestros objetivos. Qué visualizaciones crees que serían más interesantes con nuestro caso de uso para exponer nuestra historia y defender nuestros argumentos?"
   ]
  },
  {
   "cell_type": "code",
   "execution_count": null,
   "id": "398fce3f-ae37-40f3-8ab0-c5572569a508",
   "metadata": {
    "execution": {
     "iopub.execute_input": "2022-10-07T11:54:08.367520Z",
     "iopub.status.busy": "2022-10-07T11:54:08.367249Z",
     "iopub.status.idle": "2022-10-07T11:54:08.438698Z",
     "shell.execute_reply": "2022-10-07T11:54:08.437608Z",
     "shell.execute_reply.started": "2022-10-07T11:54:08.367488Z"
    }
   },
   "outputs": [],
   "source": [
    "# Respuesta"
   ]
  },
  {
   "attachments": {},
   "cell_type": "markdown",
   "id": "18e90b44",
   "metadata": {},
   "source": [
    "#### Ejercicio 22\n",
    "Crea un resumen con los principales puntos de este proyecto y como punto inicial que emplearías para evangelizar de la importancia de la calidad de datos en un proyecto como el que habéis desarrollado. Usa el caso de uso para mencionar herramientas, roles, dimenciones de calidad de datos, valor de negocio, etc. Imagina que el objetivo es que nos financien desde dirección iniciativas, en este caso, relacionada con la calidad de datos."
   ]
  },
  {
   "cell_type": "code",
   "execution_count": null,
   "id": "25acc3a1",
   "metadata": {},
   "outputs": [],
   "source": [
    "# Para la presentación puedes usar el formato que más te guste"
   ]
  },
  {
   "cell_type": "markdown",
   "id": "a643a426",
   "metadata": {},
   "source": [
    "#### Ejercicio 23\n",
    "Despliega la aplicación de Streamlit en un repo de Github y posteriormente en Streamlit Cloud. Además, configura credenciales de acceso para ciertos usuarios (tu equipo y el profesor) y comparte el link de la aplicación. Para el ejemplo de Steamlit, el usuario debería poder subir un archivo y obtener un análisis de calidad de datos, además de poder definir validaciones a alto nivel y obtener un dashboard con los resultados."
   ]
  },
  {
   "cell_type": "code",
   "execution_count": null,
   "id": "f62c76c6",
   "metadata": {},
   "outputs": [],
   "source": [
    "# URL a la app de Streamlit desplegada "
   ]
  },
  {
   "attachments": {},
   "cell_type": "markdown",
   "id": "9c147aaf-fe77-4982-8c6b-220b88f1cf4a",
   "metadata": {},
   "source": [
    "- - -"
   ]
  }
 ],
 "metadata": {
  "kernelspec": {
   "display_name": "venv",
   "language": "python",
   "name": "python3"
  },
  "language_info": {
   "codemirror_mode": {
    "name": "ipython",
    "version": 3
   },
   "file_extension": ".py",
   "mimetype": "text/x-python",
   "name": "python",
   "nbconvert_exporter": "python",
   "pygments_lexer": "ipython3",
   "version": "3.11.3"
  }
 },
 "nbformat": 4,
 "nbformat_minor": 5
}
